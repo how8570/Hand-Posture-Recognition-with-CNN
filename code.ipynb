{
 "cells": [
  {
   "cell_type": "code",
   "execution_count": 59,
   "metadata": {},
   "outputs": [
    {
     "data": {
      "image/png": "[encoded data removed]",
      "text/plain": [
       "<Figure size 432x288 with 1 Axes>"
      ]
     },
     "metadata": {
      "needs_background": "light"
     },
     "output_type": "display_data"
    },
    {
     "data": {
      "image/png": "[encoded data removed]",
      "text/plain": [
       "<Figure size 432x288 with 1 Axes>"
      ]
     },
     "metadata": {
      "needs_background": "light"
     },
     "output_type": "display_data"
    }
   ],
   "source": [
    "# test import .jpg img / take a look of data\n",
    "import matplotlib.pyplot as plt # plt 用于显示图片\n",
    "import matplotlib.image as mpimg # mpimg 用于读取图片\n",
    "import numpy as np\n",
    "\n",
    "lena = mpimg.imread('./All_gray_1_32_32/Set1/0000/0000/frame-0001.jpg') # 读取和代码处于同一目录下的 lena.png\n",
    "# 此时 lena 就已经是一个 np.array 了，可以对它进行任意处理\n",
    "lena.shape \n",
    "\n",
    "plt.imshow(lena) # 显示图片\n",
    "# plt.axis('off') # 不显示坐标轴\n",
    "plt.show()\n",
    "plt.imshow(lena[:,::-1]) # 垂直鏡射\n",
    "plt.show()"
   ]
  },
  {
   "cell_type": "code",
   "execution_count": 1,
   "metadata": {},
   "outputs": [],
   "source": [
    "import itertools\n",
    "import os\n",
    "\n",
    "import matplotlib.pyplot as plt # plt 用\n",
    "import matplotlib.image as mpimg # mpimg 用于读取图片\n",
    "import numpy as np\n",
    "\n",
    "path_of_TrainSets = [\n",
    "    'Set1', 'Set2', 'Set3'\n",
    "]\n",
    "path_of_TestSets = [\n",
    "    'Set4', 'Set5'\n",
    "]\n",
    "path_of_type = [\n",
    "    '0000', '0001', '0002',\n",
    "    '0003', '0004', '0005',\n",
    "    '0006', '0007', '0008'\n",
    "]\n",
    "path_of_dataID = [\n",
    "    '0000', '0001', '0002', '0003', '0004',\n",
    "    '0005', '0006', '0007', '0008', '0009',\n",
    "    '0010', '0011', '0012', '0013', '0014',\n",
    "    '0015', '0016', '0017', '0018', '0019',\n",
    "]\n",
    "\n",
    "def get_train_datas():\n",
    "    train_data = []\n",
    "    train_label = []\n",
    "    \n",
    "    for gen_path in itertools.product(path_of_TrainSets, path_of_type, path_of_dataID):\n",
    "        path = 'All_gray_1_32_32/' + '/'.join(gen_path) + '/'\n",
    "        for img in os.listdir(path):\n",
    "             if img.endswith('jpg'):\n",
    "                path += img\n",
    "                train_data.append(mpimg.imread(path))\n",
    "                # 垂直鏡射增加資料集\n",
    "                train_data.append(mpimg.imread(path)[:,::-1])\n",
    "        \n",
    "        if gen_path[1] in ('0000', '0001', '0002'):\n",
    "            train_label.append(0)\n",
    "            train_label.append(0)\n",
    "        elif gen_path[1] in ('0003', '0004', '0005'):\n",
    "            train_label.append(1)\n",
    "            train_label.append(1)\n",
    "        elif gen_path[1] in ('0006', '0007', '0008'):\n",
    "            train_label.append(2)\n",
    "            train_label.append(2)\n",
    "\n",
    "    return  np.array(train_data),  np.array(train_label)\n",
    "\n",
    "def get_test_datas():\n",
    "    train_data = []\n",
    "    train_label = []\n",
    "    \n",
    "    for gen_path in itertools.product(path_of_TestSets, path_of_type, path_of_dataID):\n",
    "        path = 'All_gray_1_32_32/' + '/'.join(gen_path) + '/'\n",
    "        for img in os.listdir(path):\n",
    "             if img.endswith('jpg'):\n",
    "                path += img\n",
    "                train_data.append(mpimg.imread(path))\n",
    "        \n",
    "        if gen_path[1] in ('0000', '0001', '0002'):\n",
    "            train_label.append(0)\n",
    "        elif gen_path[1] in ('0003', '0004', '0005'):\n",
    "            train_label.append(1)\n",
    "        elif gen_path[1] in ('0006', '0007', '0008'):\n",
    "            train_label.append(2)\n",
    "\n",
    "    return  np.array(train_data),  np.array(train_label)\n"
   ]
  },
  {
   "cell_type": "code",
   "execution_count": 2,
   "metadata": {
    "scrolled": true
   },
   "outputs": [],
   "source": [
    "train_data, train_label = get_train_datas()\n",
    "test_data, test_label = get_test_datas()\n",
    "\n",
    "train_data = train_data.reshape(train_data.shape[0], 1, 32, 32)\n",
    "test_data = test_data.reshape(test_data.shape[0], 1, 32, 32)"
   ]
  },
  {
   "cell_type": "code",
   "execution_count": 3,
   "metadata": {},
   "outputs": [],
   "source": [
    "# train_data = train_data/255.0\n",
    "# test_data = test_data/255.0"
   ]
  },
  {
   "cell_type": "code",
   "execution_count": 4,
   "metadata": {},
   "outputs": [
    {
     "name": "stderr",
     "output_type": "stream",
     "text": [
      "Using TensorFlow backend.\n"
     ]
    }
   ],
   "source": [
    "from keras import regularizers\n",
    "from keras.utils import np_utils\n",
    "from keras.models import Sequential\n",
    "from sklearn.model_selection import train_test_split\n",
    "from keras.layers import Dense, Dropout, Flatten, Reshape, InputLayer\n",
    "from keras.layers.normalization import BatchNormalization\n",
    "from keras.layers.convolutional import Conv2D, MaxPooling2D\n",
    "from keras.layers.advanced_activations import LeakyReLU, PReLU\n",
    "from keras.optimizers import Adam, Nadam"
   ]
  },
  {
   "cell_type": "code",
   "execution_count": 5,
   "metadata": {},
   "outputs": [],
   "source": [
    "# one-hot encoding\n",
    "train_label = np_utils.to_categorical(train_label)\n",
    "test_label = np_utils.to_categorical(test_label)"
   ]
  },
  {
   "cell_type": "code",
   "execution_count": 6,
   "metadata": {},
   "outputs": [],
   "source": [
    "# divide data into training and validation\n",
    "train_features, vali_features, train_labels, vali_labels = train_test_split(train_data, train_label, \n",
    "                                                                           test_size=0.2)"
   ]
  },
  {
   "cell_type": "code",
   "execution_count": 7,
   "metadata": {},
   "outputs": [
    {
     "name": "stdout",
     "output_type": "stream",
     "text": [
      "train_features shape:  (864, 1, 32, 32)\n",
      "vali_features shape:  (216, 1, 32, 32)\n",
      "train_labels shape:  (864, 3)\n",
      "vali_labels shape:  (216, 3)\n"
     ]
    }
   ],
   "source": [
    "# check data shapes\n",
    "print ('train_features shape: ', train_features.shape)\n",
    "print ('vali_features shape: ', vali_features.shape)\n",
    "print ('train_labels shape: ', train_labels.shape)\n",
    "print ('vali_labels shape: ', vali_labels.shape)"
   ]
  },
  {
   "cell_type": "code",
   "execution_count": 8,
   "metadata": {},
   "outputs": [
    {
     "name": "stdout",
     "output_type": "stream",
     "text": [
      "WARNING:tensorflow:From D:\\programs\\Anaconda\\envs\\deeplearn\\lib\\site-packages\\keras\\backend\\tensorflow_backend.py:74: The name tf.get_default_graph is deprecated. Please use tf.compat.v1.get_default_graph instead.\n",
      "\n",
      "WARNING:tensorflow:From D:\\programs\\Anaconda\\envs\\deeplearn\\lib\\site-packages\\keras\\backend\\tensorflow_backend.py:517: The name tf.placeholder is deprecated. Please use tf.compat.v1.placeholder instead.\n",
      "\n",
      "WARNING:tensorflow:From D:\\programs\\Anaconda\\envs\\deeplearn\\lib\\site-packages\\keras\\backend\\tensorflow_backend.py:174: The name tf.get_default_session is deprecated. Please use tf.compat.v1.get_default_session instead.\n",
      "\n",
      "WARNING:tensorflow:From D:\\programs\\Anaconda\\envs\\deeplearn\\lib\\site-packages\\keras\\backend\\tensorflow_backend.py:181: The name tf.ConfigProto is deprecated. Please use tf.compat.v1.ConfigProto instead.\n",
      "\n",
      "WARNING:tensorflow:From D:\\programs\\Anaconda\\envs\\deeplearn\\lib\\site-packages\\keras\\backend\\tensorflow_backend.py:186: The name tf.Session is deprecated. Please use tf.compat.v1.Session instead.\n",
      "\n",
      "WARNING:tensorflow:From D:\\programs\\Anaconda\\envs\\deeplearn\\lib\\site-packages\\keras\\backend\\tensorflow_backend.py:1834: The name tf.nn.fused_batch_norm is deprecated. Please use tf.compat.v1.nn.fused_batch_norm instead.\n",
      "\n",
      "WARNING:tensorflow:From D:\\programs\\Anaconda\\envs\\deeplearn\\lib\\site-packages\\keras\\backend\\tensorflow_backend.py:3976: The name tf.nn.max_pool is deprecated. Please use tf.nn.max_pool2d instead.\n",
      "\n",
      "WARNING:tensorflow:From D:\\programs\\Anaconda\\envs\\deeplearn\\lib\\site-packages\\keras\\backend\\tensorflow_backend.py:3445: calling dropout (from tensorflow.python.ops.nn_ops) with keep_prob is deprecated and will be removed in a future version.\n",
      "Instructions for updating:\n",
      "Please use `rate` instead of `keep_prob`. Rate should be set to `rate = 1 - keep_prob`.\n"
     ]
    },
    {
     "name": "stderr",
     "output_type": "stream",
     "text": [
      "D:\\programs\\Anaconda\\envs\\deeplearn\\lib\\site-packages\\ipykernel_launcher.py:8: UserWarning: Update your `MaxPooling2D` call to the Keras 2 API: `MaxPooling2D(pool_size=(2, 2), data_format=\"channels_first\")`\n",
      "  \n",
      "D:\\programs\\Anaconda\\envs\\deeplearn\\lib\\site-packages\\ipykernel_launcher.py:12: UserWarning: Update your `MaxPooling2D` call to the Keras 2 API: `MaxPooling2D(pool_size=(2, 2), data_format=\"channels_first\")`\n",
      "  if sys.path[0] == '':\n"
     ]
    }
   ],
   "source": [
    "# build model\n",
    "model = Sequential()\n",
    "\n",
    "model.add(InputLayer(input_shape=(1,32,32)))\n",
    "model.add(BatchNormalization())\n",
    "\n",
    "model.add(Conv2D(64, (3, 3), activation='relu',bias_initializer='RandomNormal', kernel_initializer='random_uniform', data_format = 'channels_first'))\n",
    "model.add(MaxPooling2D(pool_size=(2, 2), dim_ordering=\"th\"))\n",
    "model.add(Dropout(0.35))\n",
    "\n",
    "model.add(Conv2D(128, (3, 3) , activation='relu'))\n",
    "model.add(MaxPooling2D(pool_size=(2, 2), dim_ordering=\"th\"))\n",
    "model.add(Dropout(0.35))\n",
    "\n",
    "model.add(Flatten())\n",
    "\n",
    "model.add(Dense(64))  \n",
    "model.add(Dropout(0.35))\n",
    "model.add(Dense(32) )\n",
    "model.add(Dropout(0.35))\n",
    "\n",
    "model.add(Dense(3, activation='softmax',))"
   ]
  },
  {
   "cell_type": "code",
   "execution_count": 9,
   "metadata": {},
   "outputs": [
    {
     "name": "stdout",
     "output_type": "stream",
     "text": [
      "_________________________________________________________________\n",
      "Layer (type)                 Output Shape              Param #   \n",
      "=================================================================\n",
      "batch_normalization_1 (Batch (None, 1, 32, 32)         128       \n",
      "_________________________________________________________________\n",
      "conv2d_1 (Conv2D)            (None, 64, 30, 30)        640       \n",
      "_________________________________________________________________\n",
      "max_pooling2d_1 (MaxPooling2 (None, 64, 15, 15)        0         \n",
      "_________________________________________________________________\n",
      "dropout_1 (Dropout)          (None, 64, 15, 15)        0         \n",
      "_________________________________________________________________\n",
      "conv2d_2 (Conv2D)            (None, 62, 13, 128)       17408     \n",
      "_________________________________________________________________\n",
      "max_pooling2d_2 (MaxPooling2 (None, 62, 6, 64)         0         \n",
      "_________________________________________________________________\n",
      "dropout_2 (Dropout)          (None, 62, 6, 64)         0         \n",
      "_________________________________________________________________\n",
      "flatten_1 (Flatten)          (None, 23808)             0         \n",
      "_________________________________________________________________\n",
      "dense_1 (Dense)              (None, 64)                1523776   \n",
      "_________________________________________________________________\n",
      "dropout_3 (Dropout)          (None, 64)                0         \n",
      "_________________________________________________________________\n",
      "dense_2 (Dense)              (None, 32)                2080      \n",
      "_________________________________________________________________\n",
      "dropout_4 (Dropout)          (None, 32)                0         \n",
      "_________________________________________________________________\n",
      "dense_3 (Dense)              (None, 3)                 99        \n",
      "=================================================================\n",
      "Total params: 1,544,131\n",
      "Trainable params: 1,544,067\n",
      "Non-trainable params: 64\n",
      "_________________________________________________________________\n"
     ]
    }
   ],
   "source": [
    "# take a look of model\n",
    "model.summary()"
   ]
  },
  {
   "cell_type": "code",
   "execution_count": 10,
   "metadata": {},
   "outputs": [
    {
     "name": "stdout",
     "output_type": "stream",
     "text": [
      "WARNING:tensorflow:From D:\\programs\\Anaconda\\envs\\deeplearn\\lib\\site-packages\\keras\\optimizers.py:790: The name tf.train.Optimizer is deprecated. Please use tf.compat.v1.train.Optimizer instead.\n",
      "\n"
     ]
    }
   ],
   "source": [
    "# compile the model\n",
    "model.compile(loss='categorical_crossentropy', optimizer=Nadam(), metrics=['accuracy']) "
   ]
  },
  {
   "cell_type": "code",
   "execution_count": 11,
   "metadata": {
    "scrolled": true
   },
   "outputs": [
    {
     "name": "stdout",
     "output_type": "stream",
     "text": [
      "WARNING:tensorflow:From D:\\programs\\Anaconda\\envs\\deeplearn\\lib\\site-packages\\tensorflow\\python\\ops\\math_grad.py:1250: add_dispatch_support.<locals>.wrapper (from tensorflow.python.ops.array_ops) is deprecated and will be removed in a future version.\n",
      "Instructions for updating:\n",
      "Use tf.where in 2.0, which has the same broadcast rule as np.where\n",
      "Train on 864 samples, validate on 216 samples\n",
      "Epoch 1/100\n",
      "864/864 [==============================] - 6s 7ms/step - loss: 4.7214 - acc: 0.3345 - val_loss: 1.0645 - val_acc: 0.3796\n",
      "Epoch 2/100\n",
      "864/864 [==============================] - 0s 346us/step - loss: 1.0755 - acc: 0.4329 - val_loss: 1.0563 - val_acc: 0.5417\n",
      "Epoch 3/100\n",
      "864/864 [==============================] - 0s 343us/step - loss: 1.0215 - acc: 0.5069 - val_loss: 1.0350 - val_acc: 0.6620\n",
      "Epoch 4/100\n",
      "864/864 [==============================] - 0s 343us/step - loss: 0.9611 - acc: 0.6123 - val_loss: 0.9956 - val_acc: 0.7176\n",
      "Epoch 5/100\n",
      "864/864 [==============================] - 0s 346us/step - loss: 0.8881 - acc: 0.6678 - val_loss: 0.9121 - val_acc: 0.6620\n",
      "Epoch 6/100\n",
      "864/864 [==============================] - 0s 345us/step - loss: 0.7961 - acc: 0.6979 - val_loss: 0.8126 - val_acc: 0.7269\n",
      "Epoch 7/100\n",
      "864/864 [==============================] - 0s 345us/step - loss: 0.8356 - acc: 0.6597 - val_loss: 0.8321 - val_acc: 0.7639\n",
      "Epoch 8/100\n",
      "864/864 [==============================] - 0s 342us/step - loss: 0.6716 - acc: 0.7812 - val_loss: 0.6939 - val_acc: 0.7731\n",
      "Epoch 9/100\n",
      "864/864 [==============================] - 0s 340us/step - loss: 0.5321 - acc: 0.8287 - val_loss: 0.5875 - val_acc: 0.8009\n",
      "Epoch 10/100\n",
      "864/864 [==============================] - 0s 343us/step - loss: 0.5717 - acc: 0.7766 - val_loss: 0.7940 - val_acc: 0.6296\n",
      "Epoch 11/100\n",
      "864/864 [==============================] - 0s 342us/step - loss: 0.7512 - acc: 0.6863 - val_loss: 0.6021 - val_acc: 0.8148\n",
      "Epoch 12/100\n",
      "864/864 [==============================] - 0s 336us/step - loss: 0.4323 - acc: 0.8646 - val_loss: 0.5117 - val_acc: 0.7917\n",
      "Epoch 13/100\n",
      "864/864 [==============================] - 0s 340us/step - loss: 0.3496 - acc: 0.8866 - val_loss: 0.4293 - val_acc: 0.8148\n",
      "Epoch 14/100\n",
      "864/864 [==============================] - 0s 342us/step - loss: 0.3000 - acc: 0.8935 - val_loss: 0.3962 - val_acc: 0.8056\n",
      "Epoch 15/100\n",
      "864/864 [==============================] - 0s 342us/step - loss: 0.4218 - acc: 0.8287 - val_loss: 0.5191 - val_acc: 0.7546\n",
      "Epoch 16/100\n",
      "864/864 [==============================] - 0s 338us/step - loss: 0.4121 - acc: 0.8368 - val_loss: 0.4409 - val_acc: 0.8287\n",
      "Epoch 17/100\n",
      "864/864 [==============================] - 0s 343us/step - loss: 0.2661 - acc: 0.9155 - val_loss: 0.3540 - val_acc: 0.8750\n",
      "Epoch 18/100\n",
      "864/864 [==============================] - 0s 340us/step - loss: 0.2108 - acc: 0.9294 - val_loss: 0.2993 - val_acc: 0.8935\n",
      "Epoch 19/100\n",
      "864/864 [==============================] - 0s 345us/step - loss: 0.1784 - acc: 0.9456 - val_loss: 0.2379 - val_acc: 0.9074\n",
      "Epoch 20/100\n",
      "864/864 [==============================] - 0s 342us/step - loss: 0.2198 - acc: 0.9109 - val_loss: 0.2489 - val_acc: 0.9074\n",
      "Epoch 21/100\n",
      "864/864 [==============================] - 0s 343us/step - loss: 0.1661 - acc: 0.9468 - val_loss: 0.4250 - val_acc: 0.8194\n",
      "Epoch 22/100\n",
      "864/864 [==============================] - 0s 339us/step - loss: 0.7032 - acc: 0.7778 - val_loss: 0.3816 - val_acc: 0.8843\n",
      "Epoch 23/100\n",
      "864/864 [==============================] - 0s 342us/step - loss: 0.2065 - acc: 0.9502 - val_loss: 0.3021 - val_acc: 0.9167\n",
      "Epoch 24/100\n",
      "864/864 [==============================] - 0s 347us/step - loss: 0.1531 - acc: 0.9676 - val_loss: 0.2563 - val_acc: 0.9259\n",
      "Epoch 25/100\n",
      "864/864 [==============================] - 0s 346us/step - loss: 0.1169 - acc: 0.9711 - val_loss: 0.2168 - val_acc: 0.9352\n",
      "Epoch 26/100\n",
      "864/864 [==============================] - 0s 345us/step - loss: 0.1092 - acc: 0.9630 - val_loss: 0.2041 - val_acc: 0.9306\n",
      "Epoch 27/100\n",
      "864/864 [==============================] - 0s 345us/step - loss: 0.0881 - acc: 0.9792 - val_loss: 0.1692 - val_acc: 0.9398\n",
      "Epoch 28/100\n",
      "864/864 [==============================] - 0s 346us/step - loss: 0.0869 - acc: 0.9722 - val_loss: 0.2058 - val_acc: 0.9213\n",
      "Epoch 29/100\n",
      "864/864 [==============================] - 0s 348us/step - loss: 0.0853 - acc: 0.9630 - val_loss: 0.2159 - val_acc: 0.9074\n",
      "Epoch 30/100\n",
      "864/864 [==============================] - 0s 346us/step - loss: 0.1709 - acc: 0.9259 - val_loss: 0.1975 - val_acc: 0.9167\n",
      "Epoch 31/100\n",
      "864/864 [==============================] - 0s 343us/step - loss: 0.0940 - acc: 0.9688 - val_loss: 0.1566 - val_acc: 0.9352\n",
      "Epoch 32/100\n",
      "864/864 [==============================] - 0s 348us/step - loss: 0.0717 - acc: 0.9803 - val_loss: 0.1408 - val_acc: 0.9444\n",
      "Epoch 33/100\n",
      "864/864 [==============================] - 0s 346us/step - loss: 0.0924 - acc: 0.9618 - val_loss: 0.2208 - val_acc: 0.9120\n",
      "Epoch 34/100\n",
      "864/864 [==============================] - 0s 347us/step - loss: 0.0646 - acc: 0.9850 - val_loss: 0.1367 - val_acc: 0.9444\n",
      "Epoch 35/100\n",
      "864/864 [==============================] - 0s 345us/step - loss: 0.0456 - acc: 0.9861 - val_loss: 0.1227 - val_acc: 0.9491\n",
      "Epoch 36/100\n",
      "864/864 [==============================] - 0s 346us/step - loss: 0.0581 - acc: 0.9792 - val_loss: 0.0985 - val_acc: 0.9676\n",
      "Epoch 37/100\n",
      "864/864 [==============================] - 0s 346us/step - loss: 0.0343 - acc: 0.9884 - val_loss: 0.1133 - val_acc: 0.9583\n",
      "Epoch 38/100\n",
      "864/864 [==============================] - 0s 346us/step - loss: 0.0323 - acc: 0.9931 - val_loss: 0.1538 - val_acc: 0.9491\n",
      "Epoch 39/100\n",
      "864/864 [==============================] - 0s 346us/step - loss: 0.0388 - acc: 0.9884 - val_loss: 0.1696 - val_acc: 0.9398\n",
      "Epoch 40/100\n",
      "864/864 [==============================] - 0s 346us/step - loss: 0.0347 - acc: 0.9931 - val_loss: 0.0797 - val_acc: 0.9769\n",
      "Epoch 41/100\n",
      "864/864 [==============================] - 0s 344us/step - loss: 0.0211 - acc: 0.9954 - val_loss: 0.0846 - val_acc: 0.9630\n",
      "Epoch 42/100\n",
      "864/864 [==============================] - 0s 343us/step - loss: 0.0226 - acc: 0.9942 - val_loss: 0.0767 - val_acc: 0.9769\n",
      "Epoch 43/100\n",
      "864/864 [==============================] - 0s 341us/step - loss: 0.0273 - acc: 0.9919 - val_loss: 0.0764 - val_acc: 0.9676\n",
      "Epoch 44/100\n",
      "864/864 [==============================] - 0s 346us/step - loss: 0.0244 - acc: 0.9965 - val_loss: 0.0950 - val_acc: 0.9583\n",
      "Epoch 45/100\n",
      "864/864 [==============================] - 0s 341us/step - loss: 0.0180 - acc: 0.9977 - val_loss: 0.0856 - val_acc: 0.9676\n",
      "Epoch 46/100\n",
      "864/864 [==============================] - 0s 342us/step - loss: 0.0202 - acc: 0.9965 - val_loss: 0.0585 - val_acc: 0.9815\n",
      "Epoch 47/100\n",
      "864/864 [==============================] - 0s 345us/step - loss: 0.0163 - acc: 0.9965 - val_loss: 0.1036 - val_acc: 0.9537\n",
      "Epoch 48/100\n",
      "864/864 [==============================] - 0s 347us/step - loss: 0.0200 - acc: 0.9919 - val_loss: 0.0721 - val_acc: 0.9583\n",
      "Epoch 49/100\n",
      "864/864 [==============================] - 0s 347us/step - loss: 0.0127 - acc: 1.0000 - val_loss: 0.0616 - val_acc: 0.9815\n",
      "Epoch 50/100\n",
      "864/864 [==============================] - 0s 345us/step - loss: 0.0116 - acc: 0.9988 - val_loss: 0.0644 - val_acc: 0.9676\n",
      "Epoch 51/100\n",
      "864/864 [==============================] - 0s 345us/step - loss: 0.0178 - acc: 0.9942 - val_loss: 0.1240 - val_acc: 0.9583\n",
      "Epoch 52/100\n",
      "864/864 [==============================] - 0s 346us/step - loss: 0.0176 - acc: 0.9942 - val_loss: 0.1035 - val_acc: 0.9537\n",
      "Epoch 53/100\n",
      "864/864 [==============================] - 0s 347us/step - loss: 0.0218 - acc: 0.9954 - val_loss: 0.0727 - val_acc: 0.9722\n",
      "Epoch 54/100\n",
      "864/864 [==============================] - 0s 346us/step - loss: 0.0085 - acc: 1.0000 - val_loss: 0.0549 - val_acc: 0.9815\n",
      "Epoch 55/100\n",
      "864/864 [==============================] - 0s 347us/step - loss: 0.0109 - acc: 0.9977 - val_loss: 0.0663 - val_acc: 0.9722\n",
      "Epoch 56/100\n",
      "864/864 [==============================] - 0s 346us/step - loss: 0.0156 - acc: 0.9954 - val_loss: 0.1003 - val_acc: 0.9583\n",
      "Epoch 57/100\n",
      "864/864 [==============================] - 0s 349us/step - loss: 0.0241 - acc: 0.9931 - val_loss: 0.1204 - val_acc: 0.9537\n",
      "Epoch 58/100\n"
     ]
    },
    {
     "name": "stdout",
     "output_type": "stream",
     "text": [
      "864/864 [==============================] - 0s 343us/step - loss: 0.0127 - acc: 0.9965 - val_loss: 0.0608 - val_acc: 0.9769\n",
      "Epoch 59/100\n",
      "864/864 [==============================] - 0s 344us/step - loss: 0.0083 - acc: 0.9977 - val_loss: 0.0670 - val_acc: 0.9722\n",
      "Epoch 60/100\n",
      "864/864 [==============================] - 0s 346us/step - loss: 0.0120 - acc: 0.9965 - val_loss: 0.0654 - val_acc: 0.9769\n",
      "Epoch 61/100\n",
      "864/864 [==============================] - 0s 346us/step - loss: 0.0087 - acc: 0.9988 - val_loss: 0.0511 - val_acc: 0.9769\n",
      "Epoch 62/100\n",
      "864/864 [==============================] - 0s 347us/step - loss: 0.0063 - acc: 0.9988 - val_loss: 0.0506 - val_acc: 0.9815\n",
      "Epoch 63/100\n",
      "864/864 [==============================] - 0s 346us/step - loss: 0.0098 - acc: 0.9977 - val_loss: 0.1425 - val_acc: 0.9491\n",
      "Epoch 64/100\n",
      "864/864 [==============================] - 0s 343us/step - loss: 1.4836 - acc: 0.8009 - val_loss: 1.2226 - val_acc: 0.3843\n",
      "Epoch 65/100\n",
      "864/864 [==============================] - 0s 349us/step - loss: 1.2033 - acc: 0.5914 - val_loss: 0.7298 - val_acc: 0.7454\n",
      "Epoch 66/100\n",
      "864/864 [==============================] - 0s 346us/step - loss: 0.5067 - acc: 0.8449 - val_loss: 0.5879 - val_acc: 0.7315\n",
      "Epoch 67/100\n",
      "864/864 [==============================] - 0s 345us/step - loss: 0.4169 - acc: 0.8565 - val_loss: 0.3163 - val_acc: 0.9074\n",
      "Epoch 68/100\n",
      "864/864 [==============================] - 0s 345us/step - loss: 0.2346 - acc: 0.9248 - val_loss: 0.2662 - val_acc: 0.8935\n",
      "Epoch 69/100\n",
      "864/864 [==============================] - 0s 347us/step - loss: 0.3216 - acc: 0.8750 - val_loss: 0.2670 - val_acc: 0.9120\n",
      "Epoch 70/100\n",
      "864/864 [==============================] - 0s 346us/step - loss: 0.1727 - acc: 0.9444 - val_loss: 0.1857 - val_acc: 0.9491\n",
      "Epoch 71/100\n",
      "864/864 [==============================] - 0s 346us/step - loss: 0.1307 - acc: 0.9595 - val_loss: 0.1604 - val_acc: 0.9583\n",
      "Epoch 72/100\n",
      "864/864 [==============================] - 0s 345us/step - loss: 0.1011 - acc: 0.9699 - val_loss: 0.1763 - val_acc: 0.9259\n",
      "Epoch 73/100\n",
      "864/864 [==============================] - 0s 346us/step - loss: 0.0932 - acc: 0.9699 - val_loss: 0.1404 - val_acc: 0.9444\n",
      "Epoch 74/100\n",
      "864/864 [==============================] - 0s 346us/step - loss: 0.0988 - acc: 0.9676 - val_loss: 0.1518 - val_acc: 0.9444\n",
      "Epoch 75/100\n",
      "864/864 [==============================] - 0s 352us/step - loss: 0.0861 - acc: 0.9722 - val_loss: 0.1450 - val_acc: 0.9306\n",
      "Epoch 76/100\n",
      "864/864 [==============================] - 0s 351us/step - loss: 0.0728 - acc: 0.9826 - val_loss: 0.1034 - val_acc: 0.9583\n",
      "Epoch 77/100\n",
      "864/864 [==============================] - 0s 343us/step - loss: 0.0459 - acc: 0.9873 - val_loss: 0.1654 - val_acc: 0.9259\n",
      "Epoch 78/100\n",
      "864/864 [==============================] - 0s 351us/step - loss: 0.1206 - acc: 0.9653 - val_loss: 0.1121 - val_acc: 0.9537\n",
      "Epoch 79/100\n",
      "864/864 [==============================] - 0s 354us/step - loss: 0.0613 - acc: 0.9792 - val_loss: 0.1385 - val_acc: 0.9306\n",
      "Epoch 80/100\n",
      "864/864 [==============================] - 0s 348us/step - loss: 0.0490 - acc: 0.9826 - val_loss: 0.1013 - val_acc: 0.9676\n",
      "Epoch 81/100\n",
      "864/864 [==============================] - 0s 348us/step - loss: 0.0587 - acc: 0.9826 - val_loss: 0.0883 - val_acc: 0.9722\n",
      "Epoch 82/100\n",
      "864/864 [==============================] - 0s 344us/step - loss: 0.0492 - acc: 0.9838 - val_loss: 0.1236 - val_acc: 0.9352\n",
      "Epoch 83/100\n",
      "864/864 [==============================] - 0s 349us/step - loss: 0.0322 - acc: 0.9954 - val_loss: 0.0900 - val_acc: 0.9630\n",
      "Epoch 84/100\n",
      "864/864 [==============================] - 0s 346us/step - loss: 0.0333 - acc: 0.9931 - val_loss: 0.0629 - val_acc: 0.9722\n",
      "Epoch 85/100\n",
      "864/864 [==============================] - 0s 344us/step - loss: 0.1084 - acc: 0.9653 - val_loss: 0.0738 - val_acc: 0.9722\n",
      "Epoch 86/100\n",
      "864/864 [==============================] - 0s 343us/step - loss: 0.0365 - acc: 0.9861 - val_loss: 0.0734 - val_acc: 0.9815\n",
      "Epoch 87/100\n",
      "864/864 [==============================] - 0s 347us/step - loss: 0.0466 - acc: 0.9850 - val_loss: 0.0589 - val_acc: 0.9769\n",
      "Epoch 88/100\n",
      "864/864 [==============================] - 0s 344us/step - loss: 0.0254 - acc: 0.9931 - val_loss: 0.0580 - val_acc: 0.9769\n",
      "Epoch 89/100\n",
      "864/864 [==============================] - 0s 352us/step - loss: 0.0205 - acc: 0.9988 - val_loss: 0.0581 - val_acc: 0.9815\n",
      "Epoch 90/100\n",
      "864/864 [==============================] - 0s 345us/step - loss: 0.0256 - acc: 0.9942 - val_loss: 0.0637 - val_acc: 0.9769\n",
      "Epoch 91/100\n",
      "864/864 [==============================] - 0s 346us/step - loss: 0.0189 - acc: 0.9965 - val_loss: 0.0572 - val_acc: 0.9722\n",
      "Epoch 92/100\n",
      "864/864 [==============================] - 0s 343us/step - loss: 0.0202 - acc: 0.9954 - val_loss: 0.0541 - val_acc: 0.9815\n",
      "Epoch 93/100\n",
      "864/864 [==============================] - 0s 351us/step - loss: 0.0167 - acc: 0.9954 - val_loss: 0.0421 - val_acc: 0.9907\n",
      "Epoch 94/100\n",
      "864/864 [==============================] - 0s 347us/step - loss: 0.0140 - acc: 0.9977 - val_loss: 0.0427 - val_acc: 0.9815\n",
      "Epoch 95/100\n",
      "864/864 [==============================] - 0s 346us/step - loss: 0.0089 - acc: 1.0000 - val_loss: 0.0407 - val_acc: 0.9861\n",
      "Epoch 96/100\n",
      "864/864 [==============================] - 0s 345us/step - loss: 0.0147 - acc: 0.9954 - val_loss: 0.0864 - val_acc: 0.9630\n",
      "Epoch 97/100\n",
      "864/864 [==============================] - 0s 342us/step - loss: 0.0223 - acc: 0.9965 - val_loss: 0.0598 - val_acc: 0.9676\n",
      "Epoch 98/100\n",
      "864/864 [==============================] - 0s 351us/step - loss: 0.0116 - acc: 0.9988 - val_loss: 0.0403 - val_acc: 0.9861\n",
      "Epoch 99/100\n",
      "864/864 [==============================] - 0s 345us/step - loss: 0.0119 - acc: 0.9954 - val_loss: 0.0360 - val_acc: 0.9907\n",
      "Epoch 100/100\n",
      "864/864 [==============================] - 0s 345us/step - loss: 0.0093 - acc: 0.9988 - val_loss: 0.0388 - val_acc: 0.9815\n"
     ]
    }
   ],
   "source": [
    "# training\n",
    "eps = 100\n",
    "\n",
    "import time\n",
    "start_time = time.time()\n",
    "\n",
    "training = model.fit(train_features, train_labels,\n",
    "                     validation_data=(vali_features, vali_labels),\n",
    "                     epochs=eps,\n",
    "                     batch_size=256)\n",
    "\n",
    "training_time = time.time() - start_time"
   ]
  },
  {
   "cell_type": "code",
   "execution_count": 12,
   "metadata": {},
   "outputs": [
    {
     "name": "stdout",
     "output_type": "stream",
     "text": [
      "360/360 [==============================] - 0s 269us/step\n"
     ]
    },
    {
     "data": {
      "text/plain": [
       "[0.22707958646561666, 0.9333333333333333]"
      ]
     },
     "execution_count": 12,
     "metadata": {},
     "output_type": "execute_result"
    }
   ],
   "source": [
    "model.evaluate(test_data,test_label)"
   ]
  },
  {
   "cell_type": "code",
   "execution_count": 13,
   "metadata": {},
   "outputs": [
    {
     "name": "stdout",
     "output_type": "stream",
     "text": [
      "## Training 100 epochs in 0:36.4\n"
     ]
    },
    {
     "data": {
      "image/png": "[encoded data removed]",
      "text/plain": [
       "<Figure size 432x288 with 1 Axes>"
      ]
     },
     "metadata": {
      "needs_background": "light"
     },
     "output_type": "display_data"
    },
    {
     "data": {
      "image/png": "[encoded data removed]",
      "text/plain": [
       "<Figure size 432x288 with 1 Axes>"
      ]
     },
     "metadata": {
      "needs_background": "light"
     },
     "output_type": "display_data"
    }
   ],
   "source": [
    "# plot part\n",
    "\n",
    "mm = training_time // 60\n",
    "ss = training_time % 60\n",
    "print('## Training {} epochs in {}:{}'.format(eps, int(mm), round(ss, 1)))\n",
    "\n",
    "# show the loss and accuracy\n",
    "loss = training.history['loss']\n",
    "val_loss = training.history['val_loss']\n",
    "acc = training.history['acc']\n",
    "val_acc = training.history['val_acc']\n",
    "\n",
    "# loss plot\n",
    "tra = plt.plot(loss)\n",
    "val = plt.plot(val_loss, 'r')\n",
    "plt.xlabel('Epochs')\n",
    "plt.ylabel('Loss')\n",
    "plt.title('Loss')\n",
    "plt.legend([\"Training\", \"Validation\"])\n",
    "\n",
    "plt.show()\n",
    "\n",
    "# accuracy plot\n",
    "plt.plot(acc)\n",
    "plt.plot(val_acc, 'r')\n",
    "plt.xlabel('Epochs')\n",
    "plt.ylabel('Loss')\n",
    "plt.title('Accuracy')\n",
    "plt.legend(['Training', 'Validation'], loc=4)\n",
    "plt.show()"
   ]
  },
  {
   "cell_type": "code",
   "execution_count": null,
   "metadata": {},
   "outputs": [],
   "source": []
  }
 ],
 "metadata": {
  "file_extension": ".py",
  "kernelspec": {
   "display_name": "Python 3",
   "language": "python",
   "name": "python3"
  },
  "language_info": {
   "codemirror_mode": {
    "name": "ipython",
    "version": 3
   },
   "file_extension": ".py",
   "mimetype": "text/x-python",
   "name": "python",
   "nbconvert_exporter": "python",
   "pygments_lexer": "ipython3",
   "version": "3.6.9"
  },
  "mimetype": "text/x-python",
  "name": "python",
  "npconvert_exporter": "python",
  "pygments_lexer": "ipython3",
  "version": 3,
  "pycharm": {
   "stem_cell": {
    "cell_type": "raw",
    "source": [],
    "metadata": {
     "collapsed": false
    }
   }
  }
 },
 "nbformat": 4,
 "nbformat_minor": 2
}